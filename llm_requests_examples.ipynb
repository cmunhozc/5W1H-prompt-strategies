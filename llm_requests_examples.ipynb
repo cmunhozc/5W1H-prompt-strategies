{
  "nbformat": 4,
  "nbformat_minor": 0,
  "metadata": {
    "colab": {
      "provenance": [],
      "authorship_tag": "ABX9TyPY2xG2VqfGvdvSJBAJWnUM",
      "include_colab_link": true
    },
    "kernelspec": {
      "name": "python3",
      "display_name": "Python 3"
    },
    "language_info": {
      "name": "python"
    }
  },
  "cells": [
    {
      "cell_type": "markdown",
      "metadata": {
        "id": "view-in-github",
        "colab_type": "text"
      },
      "source": [
        "<a href=\"https://colab.research.google.com/github/cmunhozc/5W1H-prompt-strategies/blob/main/prompt_examples.ipynb\" target=\"_parent\"><img src=\"https://colab.research.google.com/assets/colab-badge.svg\" alt=\"Open In Colab\"/></a>"
      ]
    },
    {
      "cell_type": "markdown",
      "source": [
        "1. Dataset\n",
        "\n",
        "The dataset used in this project was downloaded from a public repository on GitHub, ensuring open access."
      ],
      "metadata": {
        "id": "oHlO8cyqeIzq"
      }
    },
    {
      "cell_type": "code",
      "execution_count": 7,
      "metadata": {
        "colab": {
          "base_uri": "https://localhost:8080/"
        },
        "id": "B39VcDBiGKak",
        "outputId": "d2a458af-4864-42f9-9657-db1705f023e2"
      },
      "outputs": [
        {
          "output_type": "stream",
          "name": "stdout",
          "text": [
            "Collecting PyGithub\n",
            "  Downloading PyGithub-2.5.0-py3-none-any.whl.metadata (3.9 kB)\n",
            "Collecting pynacl>=1.4.0 (from PyGithub)\n",
            "  Downloading PyNaCl-1.5.0-cp36-abi3-manylinux_2_17_x86_64.manylinux2014_x86_64.manylinux_2_24_x86_64.whl.metadata (8.6 kB)\n",
            "Requirement already satisfied: requests>=2.14.0 in /usr/local/lib/python3.10/dist-packages (from PyGithub) (2.32.3)\n",
            "Requirement already satisfied: pyjwt>=2.4.0 in /usr/local/lib/python3.10/dist-packages (from pyjwt[crypto]>=2.4.0->PyGithub) (2.10.1)\n",
            "Requirement already satisfied: typing-extensions>=4.0.0 in /usr/local/lib/python3.10/dist-packages (from PyGithub) (4.12.2)\n",
            "Requirement already satisfied: urllib3>=1.26.0 in /usr/local/lib/python3.10/dist-packages (from PyGithub) (2.2.3)\n",
            "Requirement already satisfied: Deprecated in /usr/local/lib/python3.10/dist-packages (from PyGithub) (1.2.15)\n",
            "Requirement already satisfied: cryptography>=3.4.0 in /usr/local/lib/python3.10/dist-packages (from pyjwt[crypto]>=2.4.0->PyGithub) (43.0.3)\n",
            "Requirement already satisfied: cffi>=1.4.1 in /usr/local/lib/python3.10/dist-packages (from pynacl>=1.4.0->PyGithub) (1.17.1)\n",
            "Requirement already satisfied: charset-normalizer<4,>=2 in /usr/local/lib/python3.10/dist-packages (from requests>=2.14.0->PyGithub) (3.4.0)\n",
            "Requirement already satisfied: idna<4,>=2.5 in /usr/local/lib/python3.10/dist-packages (from requests>=2.14.0->PyGithub) (3.10)\n",
            "Requirement already satisfied: certifi>=2017.4.17 in /usr/local/lib/python3.10/dist-packages (from requests>=2.14.0->PyGithub) (2024.12.14)\n",
            "Requirement already satisfied: wrapt<2,>=1.10 in /usr/local/lib/python3.10/dist-packages (from Deprecated->PyGithub) (1.17.0)\n",
            "Requirement already satisfied: pycparser in /usr/local/lib/python3.10/dist-packages (from cffi>=1.4.1->pynacl>=1.4.0->PyGithub) (2.22)\n",
            "Downloading PyGithub-2.5.0-py3-none-any.whl (375 kB)\n",
            "\u001b[2K   \u001b[90m━━━━━━━━━━━━━━━━━━━━━━━━━━━━━━━━━━━━━━━━\u001b[0m \u001b[32m375.9/375.9 kB\u001b[0m \u001b[31m8.9 MB/s\u001b[0m eta \u001b[36m0:00:00\u001b[0m\n",
            "\u001b[?25hDownloading PyNaCl-1.5.0-cp36-abi3-manylinux_2_17_x86_64.manylinux2014_x86_64.manylinux_2_24_x86_64.whl (856 kB)\n",
            "\u001b[2K   \u001b[90m━━━━━━━━━━━━━━━━━━━━━━━━━━━━━━━━━━━━━━━━\u001b[0m \u001b[32m856.7/856.7 kB\u001b[0m \u001b[31m41.8 MB/s\u001b[0m eta \u001b[36m0:00:00\u001b[0m\n",
            "\u001b[?25hInstalling collected packages: pynacl, PyGithub\n",
            "Successfully installed PyGithub-2.5.0 pynacl-1.5.0\n"
          ]
        }
      ],
      "source": [
        "!pip install PyGithub"
      ]
    },
    {
      "cell_type": "code",
      "execution_count": 8,
      "metadata": {
        "id": "blTqakOnHQ7I"
      },
      "outputs": [],
      "source": [
        "from github import Github\n",
        "import requests"
      ]
    },
    {
      "cell_type": "code",
      "source": [
        "import pandas as pd\n",
        "import json\n",
        "import os"
      ],
      "metadata": {
        "id": "x7I_u9qee0SW"
      },
      "execution_count": 18,
      "outputs": []
    },
    {
      "cell_type": "code",
      "execution_count": 9,
      "metadata": {
        "id": "Tirs-iK2IVC2"
      },
      "outputs": [],
      "source": [
        "g = Github()\n",
        "\n",
        "repo_name = 'fhamborg/Giveme5W1H'\n",
        "repo = g.get_repo(repo_name)"
      ]
    },
    {
      "cell_type": "code",
      "execution_count": 10,
      "metadata": {
        "id": "5EH7vPaGIVFo"
      },
      "outputs": [],
      "source": [
        "path = 'Giveme5W1H/examples/datasets/gold_standard/data'\n",
        "\n",
        "contents = repo.get_contents(path)\n",
        "os.makedirs('json_files', exist_ok=True)"
      ]
    },
    {
      "cell_type": "code",
      "execution_count": 11,
      "metadata": {
        "id": "6Uolk9Z_IVIh",
        "colab": {
          "base_uri": "https://localhost:8080/"
        },
        "outputId": "4c8fce1f-773b-4955-ebe9-f39f858c8046"
      },
      "outputs": [
        {
          "output_type": "stream",
          "name": "stdout",
          "text": [
            "file: json_files/071e141c216547f83e2b50a63a728163fa9527e337032e9eb84882d6.json\n",
            "file: json_files/08ebc52cada9093774e3ba71312def80ca3621c959d67877a6e3b228.json\n",
            "file: json_files/09d729c0013e096cf6ed1b13e52c9d3afd2538333cd74e1d42ab66fb.json\n",
            "file: json_files/0e5fa7c0e6252bfeeea5e3840c6cb503f299c19d24331c4ba60c5974.json\n",
            "file: json_files/0e7ab2ce71c1bce03040ec2388dd45ab069d5432b364495b9cfcfdf5.json\n",
            "file: json_files/101ee22f1f9e984c1bd2bd64ad44db8452b0669178f1683eafa338c7.json\n",
            "file: json_files/13a20be02e984533782dc2c6cd2f468b879ce4be88127566da043b0f.json\n",
            "file: json_files/1667b720a919a4cd7904557320d4f7572f2c55bdfb26cd0bf7946a5a.json\n",
            "file: json_files/1778efb0dfd0f1e933513e0f79af3c09986a40791ecd6faf2239f09c.json\n",
            "file: json_files/189af426dcbdb42921a716cf136f75554e4befad28c088f3d930b6c4.json\n",
            "file: json_files/1b1109edc9ba100f298d988c0558243e34a5921a855408bb1f4dfedd.json\n",
            "file: json_files/1e0f6556611739fb0f8a802cf5f4ffa966df21de1ae3aa11ea647516.json\n",
            "file: json_files/1e471fa6844bce9e88878ce164699ab88ec3dc38f166a251f071b408.json\n",
            "file: json_files/1e582ad25294607005ccb6d7abe2806c90b39eec91baeb1082072c81.json\n",
            "file: json_files/2f066d10237b0b78e684f593c83797e313ba4364ec984395373c9a9c.json\n",
            "file: json_files/2f79eb6f3371ab81f51d7028fdc75f27d89c07183e0d1b5f4bb8139f.json\n",
            "file: json_files/360dc38b43abfdd2ed72352b6fd7424f361cdde7ad48e2c044b32166.json\n",
            "file: json_files/36ed35f8c78eda121afe93cbe867946d07b7e59278d2a125a23ec1bd.json\n",
            "file: json_files/3819549c5ea2cdd5d32008086adb0722d690d898fb000ac4d8573904.json\n",
            "file: json_files/38e6814a263c875294b34f714ac3a2e5dc5cc2a9bba6163b7b1f688b.json\n",
            "file: json_files/3ddf85250d842c42a08b7dbc9ad2f3a04ab22b0c56c55f9c92bcf2f0.json\n",
            "file: json_files/3fe966703f853572a0f17ef5af3a3fef8a96974b615ea60cfed77ff1.json\n",
            "file: json_files/402f560789b2242775a7bed9d125c7980cc2f143e258a17056497521.json\n",
            "file: json_files/4032070b93a333c347d1e7e94be4aacc098b1f7f18494d6a6fd3f57c.json\n",
            "file: json_files/481182a1b8f15b50eaae2109123ccc42f6eeef2cbf3b480b71e4375a.json\n",
            "file: json_files/49df90c6ca2079a1417f842e5dde6bc0380cb2228736ebde0ccf396a.json\n",
            "file: json_files/4b279c9487149d19adddf07664cfcf8e0b498bd277c225a57d6ca5f3.json\n",
            "file: json_files/4f38a182b733b32f105f00b1d3354cd4568b867b22991cf7fd89046c.json\n",
            "file: json_files/51bd183bdd5c2ea99cdc5f0dfe49feb816b0185371c8f30842549c33.json\n",
            "file: json_files/53c22d3ddc477d1356ac73ccf81ece5c3b9323948ade4f446864d135.json\n",
            "file: json_files/5412eb378e787c5dc71ca7cc4c7f98a6185694219debc30724b2bf41.json\n",
            "file: json_files/562356984ebbe5862811c2e39e19f73b2ba58cfca66ba19475c40a56.json\n",
            "file: json_files/56637e2204cf4ec89768a742dfa3af05ba27ea8a0864bed8d8a5f3cd.json\n",
            "file: json_files/58316513017cff90c5cf66daade95beced3919684ef93b4206278c82.json\n",
            "file: json_files/5ea070bd70149f8937b167b2322b73f24b6cbd829653cced842d1f0c.json\n",
            "file: json_files/6397b8a9984ff5b8d7dea4a296881048c340b7bc272548a849dd4ac3.json\n",
            "file: json_files/6743f0f01f2f28e2994e3e566102476df382b6bf8a676b7531dfb368.json\n",
            "file: json_files/69733aa8fce0b043b0ab6f7ed8336e22bde8c469abacd967871cb263.json\n",
            "file: json_files/6b4108b35035f8ac1aefac506edf56401810bd2aa6d7a7404ea51095.json\n",
            "file: json_files/6bbfe02d07023f3952efb7f1061ea0259694c9e44285d16a07fbb206.json\n",
            "file: json_files/70261f2597e8f396526932da610eb2eb12a53db6da55cee7cb0260ab.json\n",
            "file: json_files/761de7078d56a488e886a4efb4febc7467542f04bb0e969f28701947.json\n",
            "file: json_files/7aa3386de0c6136582afb8da3e19a6287d6e69c8391d93aa34169bd2.json\n",
            "file: json_files/7b1f91bcb6dc19b7db1e86930b69f5e65ff5984db394440468f7fca4.json\n",
            "file: json_files/7fbb50905e081bf1054c7b198e1ea965a38cf318ce971bb989bfe369.json\n",
            "file: json_files/81583daefbe90573aa7a40fc8f2b056c3b02bca9de9844b2ab232b97.json\n",
            "file: json_files/816cef9a1d23400bd11375b2d4116e4bed837457b38eb98ac8b9b056.json\n",
            "file: json_files/83c0cf4e59d1b03e8ce0b8a0c5ad37a8e4e183cb950de461db3391b6.json\n",
            "file: json_files/8439c5b07d758319b42bc274b0519829ba43fa7a98c7c5d5073fff2d.json\n",
            "file: json_files/8812ee196c646231a28a742f956502469f892ac7682bf9b4fa6686c4.json\n",
            "file: json_files/883e31031f9266f4e6a62aceb8807e8fd447306d20850d9f417238cb.json\n",
            "file: json_files/8aef45f8abd401a0bb4000463978dccc9f0cf8c0bbbe00cad2c88465.json\n",
            "file: json_files/8c28a3d0e8758e8694a1454ce4421d79cbd953bd7a51e9157c83b6bd.json\n",
            "file: json_files/8d8b3ee8d6027ae6ebb8054b5197f9e2379d8e4df14cacbfe3dfd43a.json\n",
            "file: json_files/918d935744901b98ec8503d35134aadee3648594aef5c5c270834455.json\n",
            "file: json_files/921a73cf9c9293238dfb7460299647f9db62e582cee84dad8a4762e5.json\n",
            "file: json_files/93a37a20d29ccaf544a7eaf0a723902f5e46942946f8ed2fa85ea313.json\n",
            "file: json_files/95590d7d6543d8065d6b1a3ae4e9acc06cb23af05502e65de435079e.json\n",
            "file: json_files/96fc7937fa5c0c4e621b9c8fd90a8fa9f240776540dcde1a548476a6.json\n",
            "file: json_files/97da54fcf8b32ec38ce6b48b05ecb3a959319da47f3e934f35657546.json\n",
            "file: json_files/9829d11717f4d90ae350a08c55b4fd3b39ed0af5e77cfe16b93223b3.json\n",
            "file: json_files/9d498c7afe7a9e290c2e0a57af5c08de5dd16a51f8d5bf30d68f3bff.json\n",
            "file: json_files/9f3e20f7627f0ca5c6832fae1e8ee842754f20bc4f9d3c988b5d1e03.json\n",
            "file: json_files/9fb2f7a041c350a0ad6d0ad40d619aa78bc852bd5a33ffacb7d5df22.json\n",
            "file: json_files/a2bbab834c24ce38bb74b0b5fe0cb49dcacbeb7d16fc0106710f3002.json\n",
            "file: json_files/a41cc43a57a1e54aec1e2cf4baf4b2a36ca187b92db0a457266f7ac9.json\n",
            "file: json_files/a5a26c3777257a08635673aab1666d18b3c01f3752a866889968f5c6.json\n",
            "file: json_files/a899c6d207072682c7555fb1f01bac16fe28483765d077111df55969.json\n",
            "file: json_files/aaa7a68a35731e6cbf4413db90826fc59022dc90512dd90b1ceca96e.json\n",
            "file: json_files/b1c14ee2e6dbb2eb6b70d916cc54e19d9286c2c8646f81972ab655f4.json\n",
            "file: json_files/b884aa56e1059245dca68849a2d1e7635a65f25204305ce8fd7ff985.json\n",
            "file: json_files/ba38e52fb1cb4d5008d3c8f16d3c3f405fd86e63272246f9d3dfea6f.json\n",
            "file: json_files/bb685f550950e648615fd000b068ca0f91fcf164a89aa1dfa03626ad.json\n",
            "file: json_files/be0c5bb424590b889c8a211a7e37da85c89f2dc8b9fa680ae6919e43.json\n",
            "file: json_files/c984b0fb53cd3debbeed06ad8c88fe69899433470ae8b01c2f3710d9.json\n",
            "file: json_files/cbc0951362802c54af346588618433c6b8ca6ab4de32df89ff3675e0.json\n",
            "file: json_files/ce21d3b18b0f22a3c44dab7f8e22e70692ae814e48bd5afc6c94a6f5.json\n",
            "file: json_files/d0a9c4846b02c1bdf2cf6091f52061669dc04593e21aa02398f875bb.json\n",
            "file: json_files/d5239a8dab109c7648233e698bf1cb199c27a8fc7ef87c7dd8d1f379.json\n",
            "file: json_files/d654fd5500ceddb91c0cd99912f37d6c351e252b4b1558a4ba6a88eb.json\n",
            "file: json_files/dc32a2c6d5ca11c5e6b73e43e3a5d327b28b4ee1ef2ac9cda7c0635f.json\n",
            "file: json_files/dccb7b8de2a86a406c6a42ad1aab22701680c111206a66c6a64ee036.json\n",
            "file: json_files/e0ff5adbdbd19e4bb271818149bbf8e063bf8a52b8429f8af48599cd.json\n",
            "file: json_files/e1e4eaed9a50cb09878bd2740ae8aefcfdd3e9dfd485b197619f8716.json\n",
            "file: json_files/e38562d1610245f71913a283779c24d3ce55007e9022bc5240459e2c.json\n",
            "file: json_files/e6eaeb198f8ff125434c68fd55b98cf80629b4bf2c22a2080f1c9054.json\n",
            "file: json_files/e70be9ce7c3c1d545d55520a98ba13ef9cc3f60bc19e9700892e99d5.json\n",
            "file: json_files/e8a979de28fef3fdc3a5f6ee1c971260273dd814493fa1760d0b098c.json\n",
            "file: json_files/ea04b4c06fbfab2a959b39c05022cd813f4dc9b12bd0665462224374.json\n",
            "file: json_files/eff840c72c63f3ffa71643f2fe7a74cb08546ba3c24bc7b67bebf01f.json\n",
            "file: json_files/f06365a9edb398011911043e646557cc1beaadc3f1c744151bf795a9.json\n",
            "file: json_files/f326929913960e17a3afe71085002a532beaca6d68c0770372a1832d.json\n",
            "file: json_files/f402d5c8e8268d719d6c760a6ad841cec56d35147e0afab9e5a2019a.json\n",
            "file: json_files/f4f86ac3eda8b130dabaa7173bf6fd87edc71ae115ee5335ebd47f2d.json\n",
            "file: json_files/f5f5577d9812350a1cf2cce1b35bc24ddef59e2d095ad51a90cc68b9.json\n",
            "file: json_files/fde1ee4d648e7f616fc4d3d355edd3965231ae90a7067d72cf7b8563.json\n"
          ]
        },
        {
          "output_type": "execute_result",
          "data": {
            "text/plain": [
              "['3819549c5ea2cdd5d32008086adb0722d690d898fb000ac4d8573904.json',\n",
              " 'ce21d3b18b0f22a3c44dab7f8e22e70692ae814e48bd5afc6c94a6f5.json',\n",
              " 'cbc0951362802c54af346588618433c6b8ca6ab4de32df89ff3675e0.json',\n",
              " '8c28a3d0e8758e8694a1454ce4421d79cbd953bd7a51e9157c83b6bd.json',\n",
              " '189af426dcbdb42921a716cf136f75554e4befad28c088f3d930b6c4.json',\n",
              " '6b4108b35035f8ac1aefac506edf56401810bd2aa6d7a7404ea51095.json',\n",
              " '4f38a182b733b32f105f00b1d3354cd4568b867b22991cf7fd89046c.json',\n",
              " '9fb2f7a041c350a0ad6d0ad40d619aa78bc852bd5a33ffacb7d5df22.json',\n",
              " '2f066d10237b0b78e684f593c83797e313ba4364ec984395373c9a9c.json',\n",
              " '49df90c6ca2079a1417f842e5dde6bc0380cb2228736ebde0ccf396a.json',\n",
              " '3fe966703f853572a0f17ef5af3a3fef8a96974b615ea60cfed77ff1.json',\n",
              " '0e7ab2ce71c1bce03040ec2388dd45ab069d5432b364495b9cfcfdf5.json',\n",
              " '0e5fa7c0e6252bfeeea5e3840c6cb503f299c19d24331c4ba60c5974.json',\n",
              " 'dccb7b8de2a86a406c6a42ad1aab22701680c111206a66c6a64ee036.json',\n",
              " 'be0c5bb424590b889c8a211a7e37da85c89f2dc8b9fa680ae6919e43.json',\n",
              " '8d8b3ee8d6027ae6ebb8054b5197f9e2379d8e4df14cacbfe3dfd43a.json',\n",
              " '08ebc52cada9093774e3ba71312def80ca3621c959d67877a6e3b228.json',\n",
              " '7fbb50905e081bf1054c7b198e1ea965a38cf318ce971bb989bfe369.json',\n",
              " 'a899c6d207072682c7555fb1f01bac16fe28483765d077111df55969.json',\n",
              " '70261f2597e8f396526932da610eb2eb12a53db6da55cee7cb0260ab.json',\n",
              " 'd5239a8dab109c7648233e698bf1cb199c27a8fc7ef87c7dd8d1f379.json',\n",
              " '1e471fa6844bce9e88878ce164699ab88ec3dc38f166a251f071b408.json',\n",
              " '2f79eb6f3371ab81f51d7028fdc75f27d89c07183e0d1b5f4bb8139f.json',\n",
              " '8aef45f8abd401a0bb4000463978dccc9f0cf8c0bbbe00cad2c88465.json',\n",
              " '1b1109edc9ba100f298d988c0558243e34a5921a855408bb1f4dfedd.json',\n",
              " 'b1c14ee2e6dbb2eb6b70d916cc54e19d9286c2c8646f81972ab655f4.json',\n",
              " '51bd183bdd5c2ea99cdc5f0dfe49feb816b0185371c8f30842549c33.json',\n",
              " '3ddf85250d842c42a08b7dbc9ad2f3a04ab22b0c56c55f9c92bcf2f0.json',\n",
              " 'e6eaeb198f8ff125434c68fd55b98cf80629b4bf2c22a2080f1c9054.json',\n",
              " '09d729c0013e096cf6ed1b13e52c9d3afd2538333cd74e1d42ab66fb.json',\n",
              " '9d498c7afe7a9e290c2e0a57af5c08de5dd16a51f8d5bf30d68f3bff.json',\n",
              " 'b884aa56e1059245dca68849a2d1e7635a65f25204305ce8fd7ff985.json',\n",
              " 'e0ff5adbdbd19e4bb271818149bbf8e063bf8a52b8429f8af48599cd.json',\n",
              " 'a41cc43a57a1e54aec1e2cf4baf4b2a36ca187b92db0a457266f7ac9.json',\n",
              " 'ea04b4c06fbfab2a959b39c05022cd813f4dc9b12bd0665462224374.json',\n",
              " '53c22d3ddc477d1356ac73ccf81ece5c3b9323948ade4f446864d135.json',\n",
              " '5412eb378e787c5dc71ca7cc4c7f98a6185694219debc30724b2bf41.json',\n",
              " '883e31031f9266f4e6a62aceb8807e8fd447306d20850d9f417238cb.json',\n",
              " 'd0a9c4846b02c1bdf2cf6091f52061669dc04593e21aa02398f875bb.json',\n",
              " '402f560789b2242775a7bed9d125c7980cc2f143e258a17056497521.json',\n",
              " '481182a1b8f15b50eaae2109123ccc42f6eeef2cbf3b480b71e4375a.json',\n",
              " 'a5a26c3777257a08635673aab1666d18b3c01f3752a866889968f5c6.json',\n",
              " 'f4f86ac3eda8b130dabaa7173bf6fd87edc71ae115ee5335ebd47f2d.json',\n",
              " '562356984ebbe5862811c2e39e19f73b2ba58cfca66ba19475c40a56.json',\n",
              " '761de7078d56a488e886a4efb4febc7467542f04bb0e969f28701947.json',\n",
              " '4032070b93a333c347d1e7e94be4aacc098b1f7f18494d6a6fd3f57c.json',\n",
              " 'f5f5577d9812350a1cf2cce1b35bc24ddef59e2d095ad51a90cc68b9.json',\n",
              " 'f326929913960e17a3afe71085002a532beaca6d68c0770372a1832d.json',\n",
              " '101ee22f1f9e984c1bd2bd64ad44db8452b0669178f1683eafa338c7.json',\n",
              " 'dc32a2c6d5ca11c5e6b73e43e3a5d327b28b4ee1ef2ac9cda7c0635f.json',\n",
              " '6bbfe02d07023f3952efb7f1061ea0259694c9e44285d16a07fbb206.json',\n",
              " '918d935744901b98ec8503d35134aadee3648594aef5c5c270834455.json',\n",
              " 'ba38e52fb1cb4d5008d3c8f16d3c3f405fd86e63272246f9d3dfea6f.json',\n",
              " '9829d11717f4d90ae350a08c55b4fd3b39ed0af5e77cfe16b93223b3.json',\n",
              " 'e1e4eaed9a50cb09878bd2740ae8aefcfdd3e9dfd485b197619f8716.json',\n",
              " '071e141c216547f83e2b50a63a728163fa9527e337032e9eb84882d6.json',\n",
              " '95590d7d6543d8065d6b1a3ae4e9acc06cb23af05502e65de435079e.json',\n",
              " 'f06365a9edb398011911043e646557cc1beaadc3f1c744151bf795a9.json',\n",
              " '9f3e20f7627f0ca5c6832fae1e8ee842754f20bc4f9d3c988b5d1e03.json',\n",
              " 'e70be9ce7c3c1d545d55520a98ba13ef9cc3f60bc19e9700892e99d5.json',\n",
              " 'a2bbab834c24ce38bb74b0b5fe0cb49dcacbeb7d16fc0106710f3002.json',\n",
              " '6743f0f01f2f28e2994e3e566102476df382b6bf8a676b7531dfb368.json',\n",
              " '36ed35f8c78eda121afe93cbe867946d07b7e59278d2a125a23ec1bd.json',\n",
              " '58316513017cff90c5cf66daade95beced3919684ef93b4206278c82.json',\n",
              " '38e6814a263c875294b34f714ac3a2e5dc5cc2a9bba6163b7b1f688b.json',\n",
              " '96fc7937fa5c0c4e621b9c8fd90a8fa9f240776540dcde1a548476a6.json',\n",
              " '13a20be02e984533782dc2c6cd2f468b879ce4be88127566da043b0f.json',\n",
              " '81583daefbe90573aa7a40fc8f2b056c3b02bca9de9844b2ab232b97.json',\n",
              " '97da54fcf8b32ec38ce6b48b05ecb3a959319da47f3e934f35657546.json',\n",
              " 'bb685f550950e648615fd000b068ca0f91fcf164a89aa1dfa03626ad.json',\n",
              " 'e38562d1610245f71913a283779c24d3ce55007e9022bc5240459e2c.json',\n",
              " '5ea070bd70149f8937b167b2322b73f24b6cbd829653cced842d1f0c.json',\n",
              " '1e0f6556611739fb0f8a802cf5f4ffa966df21de1ae3aa11ea647516.json',\n",
              " '1667b720a919a4cd7904557320d4f7572f2c55bdfb26cd0bf7946a5a.json',\n",
              " 'fde1ee4d648e7f616fc4d3d355edd3965231ae90a7067d72cf7b8563.json',\n",
              " 'e8a979de28fef3fdc3a5f6ee1c971260273dd814493fa1760d0b098c.json',\n",
              " '69733aa8fce0b043b0ab6f7ed8336e22bde8c469abacd967871cb263.json',\n",
              " '7aa3386de0c6136582afb8da3e19a6287d6e69c8391d93aa34169bd2.json',\n",
              " '816cef9a1d23400bd11375b2d4116e4bed837457b38eb98ac8b9b056.json',\n",
              " '8812ee196c646231a28a742f956502469f892ac7682bf9b4fa6686c4.json',\n",
              " '83c0cf4e59d1b03e8ce0b8a0c5ad37a8e4e183cb950de461db3391b6.json',\n",
              " '6397b8a9984ff5b8d7dea4a296881048c340b7bc272548a849dd4ac3.json',\n",
              " 'aaa7a68a35731e6cbf4413db90826fc59022dc90512dd90b1ceca96e.json',\n",
              " 'd654fd5500ceddb91c0cd99912f37d6c351e252b4b1558a4ba6a88eb.json',\n",
              " '4b279c9487149d19adddf07664cfcf8e0b498bd277c225a57d6ca5f3.json',\n",
              " '1778efb0dfd0f1e933513e0f79af3c09986a40791ecd6faf2239f09c.json',\n",
              " 'f402d5c8e8268d719d6c760a6ad841cec56d35147e0afab9e5a2019a.json',\n",
              " '56637e2204cf4ec89768a742dfa3af05ba27ea8a0864bed8d8a5f3cd.json',\n",
              " '93a37a20d29ccaf544a7eaf0a723902f5e46942946f8ed2fa85ea313.json',\n",
              " 'c984b0fb53cd3debbeed06ad8c88fe69899433470ae8b01c2f3710d9.json',\n",
              " 'eff840c72c63f3ffa71643f2fe7a74cb08546ba3c24bc7b67bebf01f.json',\n",
              " '7b1f91bcb6dc19b7db1e86930b69f5e65ff5984db394440468f7fca4.json',\n",
              " '360dc38b43abfdd2ed72352b6fd7424f361cdde7ad48e2c044b32166.json',\n",
              " '1e582ad25294607005ccb6d7abe2806c90b39eec91baeb1082072c81.json',\n",
              " '921a73cf9c9293238dfb7460299647f9db62e582cee84dad8a4762e5.json',\n",
              " '8439c5b07d758319b42bc274b0519829ba43fa7a98c7c5d5073fff2d.json']"
            ]
          },
          "metadata": {},
          "execution_count": 11
        }
      ],
      "source": [
        "# download JSON\n",
        "for content_file in contents:\n",
        "    if content_file.path.endswith('.json'):\n",
        "        file_url = content_file.download_url\n",
        "        file_name = os.path.join('json_files', content_file.name)\n",
        "        response = requests.get(file_url)\n",
        "        with open(file_name, 'wb') as f:\n",
        "            f.write(response.content)\n",
        "        print(f'file: {file_name}')\n",
        "\n",
        "os.listdir('json_files')"
      ]
    },
    {
      "cell_type": "code",
      "execution_count": 12,
      "metadata": {
        "id": "pOd3wna1IVLb",
        "colab": {
          "base_uri": "https://localhost:8080/"
        },
        "outputId": "3cb774c7-3bcd-4ef5-9d42-89beb851e12a"
      },
      "outputs": [
        {
          "output_type": "execute_result",
          "data": {
            "text/plain": [
              "96"
            ]
          },
          "metadata": {},
          "execution_count": 12
        }
      ],
      "source": [
        "len(contents)"
      ]
    },
    {
      "cell_type": "code",
      "execution_count": 15,
      "metadata": {
        "id": "5or8Gt7PHCuc",
        "colab": {
          "base_uri": "https://localhost:8080/"
        },
        "outputId": "aec729ec-175f-4be5-c58a-652e2eb89b5e"
      },
      "outputs": [
        {
          "output_type": "stream",
          "name": "stdout",
          "text": [
            "Path consolidated_data.json\n"
          ]
        }
      ],
      "source": [
        "consolidated_data = []\n",
        "\n",
        "for file_name in os.listdir('json_files'):\n",
        "    if file_name.endswith('.json'):\n",
        "        file_path = os.path.join('json_files', file_name)\n",
        "        with open(file_path, 'r') as f:\n",
        "            data = json.load(f)\n",
        "            consolidated_data.append(data)\n",
        "\n",
        "consolidated_file_path = 'consolidated_data.json'\n",
        "with open(consolidated_file_path, 'w') as f:\n",
        "    json.dump(consolidated_data, f, indent=4)\n",
        "\n",
        "print(f'Path {consolidated_file_path}')"
      ]
    },
    {
      "cell_type": "code",
      "source": [
        "out = []\n",
        "for k in range(len(consolidated_data)):\n",
        "  o1 = consolidated_data[k]['title']\n",
        "  o2 = consolidated_data[k]['url']\n",
        "  out.append([o1, o2])"
      ],
      "metadata": {
        "id": "_cy78coRmnnX"
      },
      "execution_count": 16,
      "outputs": []
    },
    {
      "cell_type": "code",
      "source": [
        "# It is considered the example number 5 from the downloaded dataset\n",
        "k = 5\n",
        "consolidated_data[k]"
      ],
      "metadata": {
        "colab": {
          "base_uri": "https://localhost:8080/"
        },
        "id": "_XxpPI0xdZY-",
        "outputId": "a4a01dc0-e2e3-46ab-e00f-6f1e2e5928ed"
      },
      "execution_count": 22,
      "outputs": [
        {
          "output_type": "execute_result",
          "data": {
            "text/plain": [
              "{'category': 'f1',\n",
              " 'dId': '6b4108b35035f8ac1aefac506edf56401810bd2aa6d7a7404ea51095',\n",
              " 'date_publish': '2016-11-14 09:35:19',\n",
              " 'description': 'World Champion keeps his hopes of a third successive title alive in Sao Paulo but runner-up Nico Rosberg remains favourite',\n",
              " 'filename': '6b4108b35035f8ac1aefac506edf56401810bd2aa6d7a7404ea51095',\n",
              " 'fiveWoneH': {'how': {'annotated': [{'coderPhraseCount': 1,\n",
              "     'text': 'after surviving two red flags'}],\n",
              "   'label': 'how'},\n",
              "  'what': {'annotated': [{'coderPhraseCount': 3, 'text': 'wins at Interlagos'},\n",
              "    {'coderPhraseCount': 2, 'text': 'remains favourite'}],\n",
              "   'label': 'what'},\n",
              "  'when': {'annotated': [{'coderPhraseCount': 3, 'parsed': '2016-11-13'}],\n",
              "   'label': 'when'},\n",
              "  'where': {'annotated': [{'coderPhraseCount': 3, 'text': 'Sao Paulo'}],\n",
              "   'label': 'where'},\n",
              "  'who': {'annotated': [{'coderPhraseCount': 3, 'text': 'Lewis Hamilton'},\n",
              "    {'coderPhraseCount': 2, 'text': 'Nico Rosberg'}],\n",
              "   'label': 'who'},\n",
              "  'why': {'annotated': [{'coderPhraseCount': 2,\n",
              "     'text': 'driving at his brilliant best'}],\n",
              "   'label': 'why'}},\n",
              " 'mimeType': 'text/xml',\n",
              " 'originalFilename': 'thesun-6',\n",
              " 'parsingError': 'true',\n",
              " 'publisher': 'thesun',\n",
              " 'text': 'Nico Rosberg remains favourite but world Champion keeps his hopes of a third successive title alive in Sao Paulo Click to share on WhatsApp (Opens in new window) Click to share on Facebook (Opens in new window) Click to share on Twitter (Opens in new window) YOU get the feeling that whatever Lewis Hamilton tries, this is just simply not going to be his year. Despite driving at his brilliant best to win the Brazilian Grand Prix for the first time in his career, his title looks destined to be crossing the Mercedes garage floor to Nico Rosberg. Getty Images 6 Lewis Hamilton celebrates victory at the Brazilian Grand Prix Getty Images 6 But the World Championship is likely to be Nico Rosberg\\'s in Abu Dhabi Getty Images 6 Romain Grosjean\\'s car was towed after crashing out in the formation lap of a chaotic race Hamilton, reigned supreme in the rain-hit incident packed race that saw TWO red flags and FIVE safety cars deployed. It was the 52nd victory of his F1 career and moves him to second in the all-time winners\\' list behind Michael Schumacher. But the looming figure of Rosberg stood next to him on the podium in second place means the German can win the title with a top-three finish in Abu Dhabi, irrespective of where Hamilton finishes. Hamilton\\'s third win in a row cannot stop the tide. The damage was done early in the season with woeful reliability problems ensuring that it goes down to the final race. Nevertheless, the Brit has promised to give it his best shot in the desert. He said: \"I am hunting and all I can do is do what I can. I am going to give it my all in Abu Dhabi. \"I need to keep on doing. It is going to be hard to beat Nico but it does not mean I cannot win the race. \"I am going to take this energy and speed and try to push as hard as I can to win that race.\" Getty Images 6 Hamilton was left furious after the race was twice red flagged Rosberg was given a huge helping hand thanks to a Red Bull strategy blunder to pit the swashbuckling Max Verstappen for intermediate tyres. The sensational Dutch driver made a string of sensational overtakes that livened up this race but after overtaking Kimi Raikkonen and Rosberg, was inexplicably called in for fresh rubber. The gambled backfired and a subsequent stop dropped him down to 15th place -- incredibly he battled back to third. Hamilton was also left furious after race bosses put the brakes on his charge to the chequered flag on two occasions. At one point, the Brit had a stonking lead that was almost 26 second over his rival but that was wiped out when the retiring Felipe Massa crashed out, forcing out the safety car. Getty Images 6 Red Bull\\'s Max Verstappen was the outstanding driver at Interlagos Then there was Race Director Charlie Whiting\\'s inexplicable call to stop the race, despite a number of drivers, including Hamilton, calling for him to allow them to race. Hamilton vented his frustration over the team\\'s radio towards Whiting -- who was blasted by Ferrari\\'s Sebastian Vettel in the last race. At the second red flag, Hamilton groaned: \"The track is fine! It is not even that wet now. This is not extreme wet conditions this is normal.\" The spectators at Interlagos also greeted Whiting\\'s decision with jeers. As it happened, Whiting\\'s decision made no difference to Hamilton, thought it could have forced Rosberg into making a mistake that would have put him out of the race. No wonder then that the German was content with second place that leaves him with a 12 point lead in the championship with one to go. Lewis Hamilton talks about how good the team at Mercedes are He added: \"It did not go my way. Lewis did a great job but I can live with second. I was hoping for a win for second is OK.\" Hamilton\\'s win was good but the real star was Verstappen. The 19-year-old was belittled by Mercedes boss Toto Wolff last week after he contacted his father, Jos, to warn him about his son meddling in the title race. Yet he answered the criticism perfectly with a thrilling performance, including one of the saves of the season, impressing Verstappen senior in the process. Jos Verstappen said: \"I must say he surprised me today. I\\'ve seen many races he did, and today it was incredible. \"He did himself a big pleasure today. They didn\\'t have the right strategy, unlucky with weather, but it was good for Formula One.\" AP:Associated Press 6 Massa gave the home crowd an emotional farewell in his last ever Brazilian Grand Prix DRIVER OF THE DAY: Max Verstappen stole the show with an amazing drive. MOVE OF THR RACE: Verstappen pulled off a blinder on Kimi Raikkonen at turn one on lap eight. MILKFLOAT: Jenson Button had a miserable afternoon in his McLaren. MISTAKE OF THE RACE: Romain Grosjean never even made it to the grid after crashing out on the formation lap. TIMELINE Lap 14 Marcus Ericsson has a big smash in his Sauber and the safety car is deployed Lap 20 Kimi Raikkonen has a huge smash and the race is red flagged. Lap 29 Drivers are left furious as Charlie Whiting stops the race with another red flag. Lap 44 Verstappen is called in for intermediate tyres -- a costly decision from Red Bull. Lap 48 Felipe Massa has a smash and the safety car is deployed. It wipes out Hamilton\\'s lead. Lap 69 Verstappen passes Sergio Perez to take an impressive third place.',\n",
              " 'title': 'Lewis Hamilton wins at Interlagos after surviving two red flags',\n",
              " 'url': 'https://www.thesun.co.uk/sport/2177105/lewis-hamilton-wins-the-brazilian-grand-prix-after-two-red-flags/'}"
            ]
          },
          "metadata": {},
          "execution_count": 22
        }
      ]
    },
    {
      "cell_type": "code",
      "source": [
        "# Extracted fields from example 5 of the JSON file\n",
        "title       = consolidated_data[k]['title']\n",
        "description = consolidated_data[k]['description']\n",
        "news_body   = consolidated_data[k]['text']"
      ],
      "metadata": {
        "id": "-fBDhvCQfqsM"
      },
      "execution_count": 23,
      "outputs": []
    },
    {
      "cell_type": "markdown",
      "source": [
        "### 1. GPT-4o request"
      ],
      "metadata": {
        "id": "xKxrSmQBd3jJ"
      }
    },
    {
      "cell_type": "code",
      "source": [
        "!pip install openai"
      ],
      "metadata": {
        "colab": {
          "base_uri": "https://localhost:8080/"
        },
        "id": "AEAEUMxhdFsx",
        "outputId": "ca832ec6-2f2d-40e1-eab9-5586e0adeaf2"
      },
      "execution_count": 4,
      "outputs": [
        {
          "output_type": "stream",
          "name": "stdout",
          "text": [
            "Requirement already satisfied: openai in /usr/local/lib/python3.10/dist-packages (1.57.4)\n",
            "Requirement already satisfied: anyio<5,>=3.5.0 in /usr/local/lib/python3.10/dist-packages (from openai) (3.7.1)\n",
            "Requirement already satisfied: distro<2,>=1.7.0 in /usr/local/lib/python3.10/dist-packages (from openai) (1.9.0)\n",
            "Requirement already satisfied: httpx<1,>=0.23.0 in /usr/local/lib/python3.10/dist-packages (from openai) (0.28.1)\n",
            "Requirement already satisfied: jiter<1,>=0.4.0 in /usr/local/lib/python3.10/dist-packages (from openai) (0.8.2)\n",
            "Requirement already satisfied: pydantic<3,>=1.9.0 in /usr/local/lib/python3.10/dist-packages (from openai) (2.10.3)\n",
            "Requirement already satisfied: sniffio in /usr/local/lib/python3.10/dist-packages (from openai) (1.3.1)\n",
            "Requirement already satisfied: tqdm>4 in /usr/local/lib/python3.10/dist-packages (from openai) (4.67.1)\n",
            "Requirement already satisfied: typing-extensions<5,>=4.11 in /usr/local/lib/python3.10/dist-packages (from openai) (4.12.2)\n",
            "Requirement already satisfied: idna>=2.8 in /usr/local/lib/python3.10/dist-packages (from anyio<5,>=3.5.0->openai) (3.10)\n",
            "Requirement already satisfied: exceptiongroup in /usr/local/lib/python3.10/dist-packages (from anyio<5,>=3.5.0->openai) (1.2.2)\n",
            "Requirement already satisfied: certifi in /usr/local/lib/python3.10/dist-packages (from httpx<1,>=0.23.0->openai) (2024.12.14)\n",
            "Requirement already satisfied: httpcore==1.* in /usr/local/lib/python3.10/dist-packages (from httpx<1,>=0.23.0->openai) (1.0.7)\n",
            "Requirement already satisfied: h11<0.15,>=0.13 in /usr/local/lib/python3.10/dist-packages (from httpcore==1.*->httpx<1,>=0.23.0->openai) (0.14.0)\n",
            "Requirement already satisfied: annotated-types>=0.6.0 in /usr/local/lib/python3.10/dist-packages (from pydantic<3,>=1.9.0->openai) (0.7.0)\n",
            "Requirement already satisfied: pydantic-core==2.27.1 in /usr/local/lib/python3.10/dist-packages (from pydantic<3,>=1.9.0->openai) (2.27.1)\n"
          ]
        }
      ]
    },
    {
      "cell_type": "code",
      "execution_count": 5,
      "metadata": {
        "id": "rP9KAjh0Cwqa"
      },
      "outputs": [],
      "source": [
        "from openai import OpenAI"
      ]
    },
    {
      "cell_type": "code",
      "execution_count": 25,
      "metadata": {
        "id": "xN9UH-Pc2_LF"
      },
      "outputs": [],
      "source": [
        "# Create an instance of the GPT API client\n",
        "client = OpenAI(api_key=\"_key\")"
      ]
    },
    {
      "cell_type": "code",
      "source": [
        "response = client.chat.completions.create(\n",
        "    model=\"gpt-4o\",\n",
        "    messages=[\n",
        "      {\n",
        "        \"role\": \"system\",\n",
        "\n",
        "        \"content\":\"You will be provided with a news article. Your task is to answer the 5W1H questions: What, Who, When, Where, Why, and How based on the provided content.\"\n",
        "                  \"Provide clear, concise, and focused answers for each question.\\n\\n\"\n",
        "\n",
        "                  \"If you cannot find a relevant answer for any question based on the content provided, please respond with an empty string ('').\\n\"\n",
        "                  \"Ensure your answers are directly based on the content provided and avoid including any unsupported information, personal opinions, or extraneous details.\"\n",
        "      },\n",
        "      {\n",
        "        \"role\": \"user\",\n",
        "        \"content\": (\n",
        "          \"Here is the news article:\\n\"\n",
        "          f\"Title: {title}\\n\"\n",
        "          f\"Description: {description}\\n\"\n",
        "          f\"News Body: {news_body}\\n\"\n",
        "          \"Please answer the following questions based on the context provided.\\n\"\n",
        "          \"1. What:\\n\"\n",
        "          \"2. Who:\\n\"\n",
        "          \"3. When:\\n\"\n",
        "          \"4. Where:\\n\"\n",
        "          \"5. Why:\\n\"\n",
        "          \"6. How:\\n\\n\"\n",
        "        )\n",
        "      }\n",
        "    ],\n",
        "    temperature = 0.2,\n",
        "    max_tokens  = 1000,\n",
        "    top_p       = 0.1\n",
        "  )"
      ],
      "metadata": {
        "id": "Zuc-zVtLaMSM"
      },
      "execution_count": 26,
      "outputs": []
    },
    {
      "cell_type": "code",
      "source": [
        "response_text = response.choices[0].message.content\n",
        "response_text"
      ],
      "metadata": {
        "colab": {
          "base_uri": "https://localhost:8080/",
          "height": 127
        },
        "id": "tsRcNo6WaMVR",
        "outputId": "7baa05e6-40ec-47d0-a58b-161f972ff37b"
      },
      "execution_count": 27,
      "outputs": [
        {
          "output_type": "execute_result",
          "data": {
            "text/plain": [
              "\"1. What: Lewis Hamilton won the Brazilian Grand Prix at Interlagos, keeping his hopes of a third successive title alive.\\n\\n2. Who: Lewis Hamilton, Nico Rosberg, Max Verstappen, Romain Grosjean, Felipe Massa, Kimi Raikkonen, Charlie Whiting, Sebastian Vettel, Jos Verstappen, Toto Wolff, Jenson Button, Marcus Ericsson, Sergio Perez.\\n\\n3. When: The race took place during the Formula 1 season, with the final race in Abu Dhabi still to come.\\n\\n4. Where: The race was held at Interlagos in Sao Paulo, Brazil.\\n\\n5. Why: Hamilton's victory was significant as it kept his championship hopes alive, although Nico Rosberg remains the favorite to win the title.\\n\\n6. How: Hamilton won the race despite challenging conditions, including two red flags and five safety cars. He maintained his lead despite these interruptions and a strategy error by Red Bull that affected Max Verstappen's race.\""
            ],
            "application/vnd.google.colaboratory.intrinsic+json": {
              "type": "string"
            }
          },
          "metadata": {},
          "execution_count": 27
        }
      ]
    },
    {
      "cell_type": "markdown",
      "source": [
        "### 2. Mistral-large-latest request"
      ],
      "metadata": {
        "id": "86q_ArBugPKX"
      }
    },
    {
      "cell_type": "code",
      "source": [
        "!pip install mistralai"
      ],
      "metadata": {
        "colab": {
          "base_uri": "https://localhost:8080/"
        },
        "id": "YQLLKba0aMYP",
        "outputId": "2f65b39c-df9c-4ced-8ebd-c128b4bc19e2"
      },
      "execution_count": 28,
      "outputs": [
        {
          "output_type": "stream",
          "name": "stdout",
          "text": [
            "Collecting mistralai\n",
            "  Downloading mistralai-1.2.5-py3-none-any.whl.metadata (27 kB)\n",
            "Requirement already satisfied: eval-type-backport<0.3.0,>=0.2.0 in /usr/local/lib/python3.10/dist-packages (from mistralai) (0.2.0)\n",
            "Collecting httpx<0.28.0,>=0.27.0 (from mistralai)\n",
            "  Downloading httpx-0.27.2-py3-none-any.whl.metadata (7.1 kB)\n",
            "Collecting jsonpath-python<2.0.0,>=1.0.6 (from mistralai)\n",
            "  Downloading jsonpath_python-1.0.6-py3-none-any.whl.metadata (12 kB)\n",
            "Requirement already satisfied: pydantic<3.0.0,>=2.9.0 in /usr/local/lib/python3.10/dist-packages (from mistralai) (2.10.3)\n",
            "Requirement already satisfied: python-dateutil<3.0.0,>=2.8.2 in /usr/local/lib/python3.10/dist-packages (from mistralai) (2.8.2)\n",
            "Collecting typing-inspect<0.10.0,>=0.9.0 (from mistralai)\n",
            "  Downloading typing_inspect-0.9.0-py3-none-any.whl.metadata (1.5 kB)\n",
            "Requirement already satisfied: anyio in /usr/local/lib/python3.10/dist-packages (from httpx<0.28.0,>=0.27.0->mistralai) (3.7.1)\n",
            "Requirement already satisfied: certifi in /usr/local/lib/python3.10/dist-packages (from httpx<0.28.0,>=0.27.0->mistralai) (2024.12.14)\n",
            "Requirement already satisfied: httpcore==1.* in /usr/local/lib/python3.10/dist-packages (from httpx<0.28.0,>=0.27.0->mistralai) (1.0.7)\n",
            "Requirement already satisfied: idna in /usr/local/lib/python3.10/dist-packages (from httpx<0.28.0,>=0.27.0->mistralai) (3.10)\n",
            "Requirement already satisfied: sniffio in /usr/local/lib/python3.10/dist-packages (from httpx<0.28.0,>=0.27.0->mistralai) (1.3.1)\n",
            "Requirement already satisfied: h11<0.15,>=0.13 in /usr/local/lib/python3.10/dist-packages (from httpcore==1.*->httpx<0.28.0,>=0.27.0->mistralai) (0.14.0)\n",
            "Requirement already satisfied: annotated-types>=0.6.0 in /usr/local/lib/python3.10/dist-packages (from pydantic<3.0.0,>=2.9.0->mistralai) (0.7.0)\n",
            "Requirement already satisfied: pydantic-core==2.27.1 in /usr/local/lib/python3.10/dist-packages (from pydantic<3.0.0,>=2.9.0->mistralai) (2.27.1)\n",
            "Requirement already satisfied: typing-extensions>=4.12.2 in /usr/local/lib/python3.10/dist-packages (from pydantic<3.0.0,>=2.9.0->mistralai) (4.12.2)\n",
            "Requirement already satisfied: six>=1.5 in /usr/local/lib/python3.10/dist-packages (from python-dateutil<3.0.0,>=2.8.2->mistralai) (1.17.0)\n",
            "Collecting mypy-extensions>=0.3.0 (from typing-inspect<0.10.0,>=0.9.0->mistralai)\n",
            "  Downloading mypy_extensions-1.0.0-py3-none-any.whl.metadata (1.1 kB)\n",
            "Requirement already satisfied: exceptiongroup in /usr/local/lib/python3.10/dist-packages (from anyio->httpx<0.28.0,>=0.27.0->mistralai) (1.2.2)\n",
            "Downloading mistralai-1.2.5-py3-none-any.whl (260 kB)\n",
            "\u001b[2K   \u001b[90m━━━━━━━━━━━━━━━━━━━━━━━━━━━━━━━━━━━━━━━━\u001b[0m \u001b[32m260.0/260.0 kB\u001b[0m \u001b[31m13.4 MB/s\u001b[0m eta \u001b[36m0:00:00\u001b[0m\n",
            "\u001b[?25hDownloading httpx-0.27.2-py3-none-any.whl (76 kB)\n",
            "\u001b[2K   \u001b[90m━━━━━━━━━━━━━━━━━━━━━━━━━━━━━━━━━━━━━━━━\u001b[0m \u001b[32m76.4/76.4 kB\u001b[0m \u001b[31m7.5 MB/s\u001b[0m eta \u001b[36m0:00:00\u001b[0m\n",
            "\u001b[?25hDownloading jsonpath_python-1.0.6-py3-none-any.whl (7.6 kB)\n",
            "Downloading typing_inspect-0.9.0-py3-none-any.whl (8.8 kB)\n",
            "Downloading mypy_extensions-1.0.0-py3-none-any.whl (4.7 kB)\n",
            "Installing collected packages: mypy-extensions, jsonpath-python, typing-inspect, httpx, mistralai\n",
            "  Attempting uninstall: httpx\n",
            "    Found existing installation: httpx 0.28.1\n",
            "    Uninstalling httpx-0.28.1:\n",
            "      Successfully uninstalled httpx-0.28.1\n",
            "Successfully installed httpx-0.27.2 jsonpath-python-1.0.6 mistralai-1.2.5 mypy-extensions-1.0.0 typing-inspect-0.9.0\n"
          ]
        }
      ]
    },
    {
      "cell_type": "code",
      "source": [
        "from mistralai import Mistral"
      ],
      "metadata": {
        "id": "UgpMw4rHaMbD"
      },
      "execution_count": 29,
      "outputs": []
    },
    {
      "cell_type": "code",
      "source": [
        "os.environ['MISTRAL_API_KEY'] = '_key'\n",
        "api_key = os.environ[\"MISTRAL_API_KEY\"]\n",
        "\n",
        "# Create an instance of the Mistral API client\n",
        "client = Mistral(api_key=api_key)"
      ],
      "metadata": {
        "id": "vldt1B8saMd3"
      },
      "execution_count": 34,
      "outputs": []
    },
    {
      "cell_type": "code",
      "source": [
        "response = client.chat.complete(\n",
        "    model=\"mistral-large-latest\",\n",
        "\n",
        "    messages=[\n",
        "      {\n",
        "        \"role\": \"system\",\n",
        "\n",
        "        \"content\":\"You will be provided with a news article. Your task is to answer the 5W1H questions: What, Who, When, Where, Why, and How based on the provided content.\"\n",
        "                  \"Provide clear, concise, and focused answers for each question. Here are specific guidelines for each question:\\n\\n\"\n",
        "                  \"1. What: Describe the key facts, circumstances, and/or actions mentioned in the article. Exclude additional context or external opinions.\\n\"\n",
        "                  \"2. Who: Identify the main subject and/or entity involved in the news article. Do not include additional context or details about actions or locations.\\n\"\n",
        "                  \"3. When: Specify the relevant time and/or date when the events occurred. Do not include extra information about the impact or reactions.\\n\"\n",
        "                  \"4. Where: Indicate the location or place where the events occurred. Avoid adding context about individuals or specific actions taken in that location.\\n\"\n",
        "                  \"5. Why: Explain the reasons or causes behind the news event. Focus solely on the reasons mentioned in the article without adding opinions or external reactions.\\n\"\n",
        "                  \"6. How: Describe the manner or method by which the event occurred. Outline the manner in which the events unfolded as detailed in the article.\\n\\n\"\n",
        "\n",
        "                  \"If you cannot find a relevant answer for any question based on the content provided, please respond with an empty string ('').\\n\"\n",
        "                  \"Ensure your answers are directly based on the content provided and avoid including any unsupported information, personal opinions, or extraneous details.\\n\"\n",
        "                  \"Only use excerpts from the provided context. **This is a fundamental requirement.** Separate different sections with ';'.\"\n",
        "\n",
        "                  \"Here are five examples of how to structure your responses::\\n\"\n",
        "\n",
        "                  \"Example 1:\\n\"\n",
        "                  \"Title: U.N. court orders Japan to halt whale hunt.\\n\"\n",
        "                  \"Description: The International Court of Justice ruled Monday that Japan can no longer continue its annual whale hunt, rejecting the country's argument that it was for scientific purposes.\\n\"\n",
        "                  \"News Body: Japan shall revoke any extant authorization, permit or license granted in relation to JARPA II, and refrain from granting any further permits in pursuance of that program, the court said, referring to the research program. The International Court of Justice is the principal judicial organ of the United Nations. Japan's fleet carries out an annual whale Hunt despite a worldwide moratorium, taking advantage of a loophole in the law that permits the killing of the mammals for scientific research. Whale meat is commonly available for consumption in Japan. Each year, environmental groups such as Sea Shepherd pursue the Japanese hunters in an attempt to disrupt the whaling. The resulting confrontations have led to collisions of ships and the detention of activists. The Australian government challenged the Japanese whaling program in the International Court of Justice, leading to Monday's ruling.\\n\"\n",
        "\n",
        "                  \"Answers:\\n\"\n",
        "                  \"1. What: Japan's fleet carries out an annual whale hunt despite a worldwide moratorium, taking advantage of a loophole in the law that permits the killing of the mammals for scientific research.\\n\"\n",
        "                  \"2. Who: Japan's fleet; environmental groups; The Australian government; the court.\\n\"\n",
        "                  \"3. When: Monday; annual; Each year.\\n\"\n",
        "                  \"4. Where: Japan; The International Court of Justice.\\n\"\n",
        "                  \"5. Why: The Australian government challenged the Japanese whaling program in the International Court of Justice, leading to Monday's ruling.\\n\"\n",
        "                  \"6. How: Each year, environmental groups such as Sea Shepherd pursue the Japanese hunters in an attempt to disrupt the whaling; a worldwide moratorium. \\n\\n\"\n",
        "\n",
        "                  \"Example 2:\\n\"\n",
        "                  \"Title: .\\n\"\n",
        "                  \"Description: .\\n\"\n",
        "                  \"News Body: There is no doubting the significance of Sunday’s Tyne-Wear derby now. Debate has raged in Newcastle as to which their fans would rather see - a place in the Capital One Cup semi-final or a first win over Sunderland in six attempts. The majority sided with the former and a shot at a first domestic trophy since 1955. That dream, however, is dead. Alan Pardew and his players had talked of a ‘massive’ week in their season. Well, it just got bigger. Massadio Haidara consoles keeper Jak Alnwick after a night to forget for Newcastle at Tottenham. Newcastle’s defence reels as Spurs celebrate the final goal of their 4-0 defeat of the Toon on Wednesday. For Alan Pardew’s side, Sunday’s Tyne-Wear derby takes on a new dimension now they’re out of the cup. The manager had, in fairness, named just about the strongest XI available to him but it looked awfully weak against a Spurs side who were superior in every department. The against-the-odds spirit that had inspired Newcastle’s 2-0 victory at Manchester City in the last round was missing. It was, in the end, a rather timid surrender. Apart from Moussa Sissoko, the French battering ram who tried his best to barge his team forward, the visitors offered little. Sissoko’s compatriots Yoan Gouffran, Remy Cabella and Emmanuel Riviere – a combined 20 million worth of ‘ talent ’ – were passengers on a journey destined to end in defeat from the moment Jak Alnwick spilled Christian Eriksen’s corner and Nabil Bentaleb looped home the opening goal. A Newcastle fan, one of 4,200 supporters to travel down to London, gives his appraisal of the match. These shirtless lads do their best to lift their team having made the journey for the Capital One Cup loss. This has been a Newcastle team characterised by resistance and resilience, neither of which was in evidence. It was their second heavy loss in north London in five days and such drubbings will do little for the team’s confidence come Sunday. Pardew is the only manager in Newcastle’s history to lose three in a row against their North-East rivals and, with the mitigation of a cup run gone, he can ill afford another defeat this weekend. It was after Spurs ’ fourth goal – Roberto Soldado capitalising on another Alnwick spill – that Pardew turned his attention to the derby. Sunderland boss Gus Poyet issues instructions to his players on their way to a 1-1 draw with West Ham. Jordi Gomez celebrates putting Sunderland 1-0 up from the penalty spot at home against West Ham. The thought of going into that game without Sissoko is a frightening one and, when he took what proved to be an innocuous knock to the knee, Pardew withdrew his star man almost immediately. His effort was recognised by the 4,200 travelling fans and they sang until the last kick of an otherwise torrid evening. Pardew acknowledged their support but will be in doubt about how fast such goodwill would evaporate should they fail to show against Gus Poyet’s side. The debate on radio phone-ins and in the local newspaper had been ‘which of the two matches would you prefer to win? ’ Losing both was never an option. Pardew, of course, has done tremendously well to transform his own and Newcastle’s fortunes, but the mood can change quickly on Tyneside. After this humiliation, Pardew will be only too aware of Sunday’s significance.\\n\"\n",
        "\n",
        "                  \"Answers:\\n\"\n",
        "                  \"1. What: Pardew turned his attention to the derby. Sunderland boss Gus Poyet issues instructions to his players on their way to a; Sunday’s Tyne-Wear derby; Debate has raged in Newcastle as to which their fans would rather see - a place in the Capital One Cup semi-final or a first win over Sunderland in six attempts.\\n\"\n",
        "                  \"2. Who: Massadio Haidara; Jak Alnwick; Christian Eriksen; Nabil Bentaleb; Pardew.\\n\"\n",
        "                  \"3. When: since 1955; on Wednesday; Sunday; in five days; this weekend.\\n\"\n",
        "                  \"4. Where: in the Capital One Cup semi-final; at Tottenham; in north London.\\n\"\n",
        "                  \"5. Why: The against-the-odds spirit that had inspired Newcastle’s 2-0 victory at Manchester City in the last round was.\\n\"\n",
        "                  \"6. How: Pardew withdrew his star man almost immediately. His effort was recognised by the 4,200 travelling fans and they sang until the last kick of an otherwise torrid evening. \\n\\n\"\n",
        "\n",
        "                  \"Example 3:\\n\"\n",
        "                  \"Title: Hawaii group wants to defend licenses for foreign fishermen.\\n\"\n",
        "                  \"Description: HONOLULU — A group representing Hawaii commercial fishermen has filed a court motion to defend the state’s practice of giving fishing licenses to foreign workers.\\n\"\n",
        "                  \"News Body:  The Hawaii Longline Association sought court permission last week to argue its side after a Maui resident asked a judge to declare that only those lawfully admitted to the United States should receive commercial fishing licenses. Resident Malama Chun went to court after an Associated Press investigation found hundreds of foreign workers in the Hawaii fleet were confined to boats and some were living in subpar conditions. […].\\n\"\n",
        "\n",
        "                  \"Answers:\\n\"\n",
        "                  \"1. What: wants to defend licenses for foreign fishermen.\\n\"\n",
        "                  \"2. Who: Hawaii group.\\n\"\n",
        "                  \"3. When: last week.\\n\"\n",
        "                  \"4. Where: Hawaii.\\n\"\n",
        "                  \"5. Why: a Maui resident asked a judge to declare that only those lawfully admitted to the United States should receive commercial fishing licenses.\\n\"\n",
        "                  \"6. How: filed a court motion.\\n\\n\"\n",
        "\n",
        "                  \"Example 4:\\n\"\n",
        "                  \"Title: Indiana Jones's Temple of Doom hat sells for $630k.\\n\"\n",
        "                  \"Description: .\\n\"\n",
        "                  \"\"\"News Body: The hat worn by actor Harrison Ford in the second instalment of the Indiana Jones film franchise has sold for nearly half a million pounds at auction.\n",
        "The brown felt fedora - specifically made for the Temple of Doom film - fetched $630,000 (£487,000) in Los Angeles on Thursday.\n",
        "Other items of movie memorabilia were sold at the same time including props from Star Wars, Harry Potter and James Bond productions.\n",
        "Jones, an adventuring archaeologist, is seen with the hat early on in the movie where he and his companions jump from a crashing plane in an inflatable raft.\n",
        "During the scene, he is on board a plane with nightclub singer Wilhelmina \"Willie\" Scott, played by Kate Capshaw, and his 12-year-old friend Short Round, played by Ke Huy Quan, while escaping the clutches of a Chinese crime gang.\n",
        "After the flight is sabotaged by the pilot, the trio use the raft to fall from the plane, before sliding down a mountainside.\n",
        "The auction house said the hat was also used during additional photography at producer George Lucas's visual effects facilities.\n",
        "The fedora was also worn by Ford's stunt-double in the 1984 film, Dean Ferrandini, and was sold with previously unpublished photos of the stuntman wearing the now-iconic costume on location.\n",
        "Ferrandini died last year. The hat came from his personal collection.\n",
        "The sable-coloured fedora was an update to the original featured in the first Indiana Jones film - Raiders Of The Lost Ark - with a \"more tapered\" crown then the first, Propstore, the auction house, said.\n",
        "Created by the Herbert Johnson Hat Company in London, the inside lining features gold monogrammed initials \"IJ\".\n",
        "Also sold at the auction was an imperial scout trooper helmet used in the 1983 Star Wars film Return Of The Jedi - which was bought for $315,000 (£243,000) - as well as a light-up wand used by Daniel Radcliffe in Harry Potter And The Prisoner of Azkaban, which attracted a winning bid of $53,550 (£41,400).\n",
        "Meanwhile, a suit worn by Daniel Craig in the 2012 James Bond film Skyfall sold for $35,000 (£27,000).\n",
        "Brandon Alinger, Propstore chief operating officer, said the auction house was \"proud to have connected such a wide expanse of fans with the historic pieces they cherish\".\n",
        "The Indiana Jones hat fetched more than double that of another Temple of Doom fedora auctioned in 2021, which sold for $300,000 (£232,000), according to Hollywood Reporter.\n",
        ".\\n\"\"\"\n",
        "\n",
        "                  \"Answers:\\n\"\n",
        "                  \"1. What: Indiana Jones's Temple of Doom hat sells.\\n\"\n",
        "                  \"2. Who: Harrison Ford; Indiana Jones; The auction house.\\n\"\n",
        "                  \"3. When: on Thursday.\\n\"\n",
        "                  \"4. Where: in Los Angeles.\\n\"\n",
        "                  \"5. Why: \\n\"\n",
        "                  \"6. How: sells for $630k; sold for nearly half a million pounds at auction.\\n\\n\"\n",
        "\n",
        "                  \"Example 5:\\n\"\n",
        "                  \"Title: X shuts Brazil operations over 'censorship' orders: Musk.\\n\"\n",
        "                  \"Description: A feud between X owner Elon Musk and a Brazilian top court judge has culminated in the platform shutting down its local operations for the staff’s 'safety'.\\n\"\n",
        "                  \"\"\"News Body: Social media website X, formerly Twitter, will wind up its local operations in Brazil after a legal battle at the Supreme Court over the platform's rights and responsibilities, owner Elon Musk said Sunday\n",
        "But the company said the website would remain available to users in Brazil.\n",
        "While X argued that it was protecting free speech and standing up against \"illegal secret censorship,\" Brazil's Supreme Court Judge Alexandre de Moraes argued he was standing up against disinformation and tyranny in Brazil.\n",
        "In April, Moraes had ordered an investigation into Musk, accusing him of \"criminal instrumentalization\" of the platform. An order seen by AFP detailed that Musk had reactivated banned accounts and was then threatened with a fine for each instance.\n",
        "This comes roughly a week after Venezuelan President Nicolas Maduro banned the website for a 10-day period over an election result dispute and accused Musk of inciting hate, civil war, and death.\n",
        "Musk has been increasingly outspoken on Latin American politics, as he has on politics in general, of late.\n",
        "What did X say?\n",
        "\"Alexandre de Moraes threatened our legal representative in Brazil with arrest if we do not comply with his censorship orders. He did so in a secret order, which we share here to expose his actions,\" X's Global Government Affairs department said in a post on Saturday.\n",
        "\"We are deeply saddened that we have been forced to make this decision. The responsibility lies solely with Alexandre de Moraes,\" the post read. \"His actions are incompatible with democratic government. The people of Brazil have a choice to make — democracy, or Alexandre de Moraes.\"\n",
        "The post said X's numerous appeals went unheard at the court while the public was not informed of the orders. The Brazilian office's staff had \"no responsibility or control\" over whether content was blocked from the platform.\n",
        "The decision to close down local operations was taken to protect the safety of the staff, it said.\n",
        "Billionaire Musk, in his post, said the decision was \"difficult, but, if we had agreed to Alexandre's (illegal) secret censorship and private information handover demands, there was no way we could explain our actions without being ashamed.\"\n",
        "What did Moraes say?\n",
        "Moraes has previously ordered several social media accounts Brazil's authorities suspected of spreading disinformation, including those of supporters of former President Jair Bolsonaro who tried discrediting the nation's voting system after he lost the 2022 election.\n",
        "\"Freedom of expression doesn't mean freedom of aggression,\" Moraes has said. \"It doesn't mean the freedom to defend tyranny.\"\n",
        "Judge Moraes presides over Brazil's Superior Electoral Tribunal which declared Bolsonaro ineligible to run for office again last year, saying that he had spread disinformation about the election system.\n",
        ".\\n\"\"\"\n",
        "\n",
        "                  \"Answers:\\n\"\n",
        "                  \"1. What: X shuts Brazil operations.\\n\"\n",
        "                  \"2. Who: X owner Elon Musk; X, formerly Twitter; Brazilian top court judge; Alexandre de Moraes.\\n\"\n",
        "                  \"3. When: on Saturday.\\n\"\n",
        "                  \"4. Where: in Brazil.\\n\"\n",
        "                  \"5. Why: over 'censorship' orders; censorship orders.\\n\"\n",
        "                  \"6. How: a legal battle at the Supreme Court over the platform's rights and responsibilities.\\n\\n\"\n",
        "\n",
        "                  \"Now, please proceed with answering the 5W1H questions for the provided news article using this format.\"\n",
        "      },\n",
        "\n",
        "      {\n",
        "        \"role\": \"user\",\n",
        "        \"content\": (\n",
        "          \"Here is the news article:\\n\"\n",
        "          f\"Title: {title}\\n\"\n",
        "          f\"Description: {description}\\n\"\n",
        "          f\"News Body: {news_body}\\n\"\n",
        "          \"Please answer the following questions based on the context provided.\\n\"\n",
        "          \"1. What:\\n\"\n",
        "          \"2. Who:\\n\"\n",
        "          \"3. When:\\n\"\n",
        "          \"4. Where:\\n\"\n",
        "          \"5. Why:\\n\"\n",
        "          \"6. How:\\n\\n\"\n",
        "\n",
        "        )\n",
        "      }\n",
        "\n",
        "\n",
        "\n",
        "    ],\n",
        "    temperature = 0.2,\n",
        "    max_tokens  = 1000,\n",
        "    top_p       = 0.1\n",
        "  )"
      ],
      "metadata": {
        "id": "On72q_52goZf"
      },
      "execution_count": 35,
      "outputs": []
    },
    {
      "cell_type": "code",
      "source": [
        "response_text = response.choices[0].message.content\n",
        "response_text"
      ],
      "metadata": {
        "colab": {
          "base_uri": "https://localhost:8080/",
          "height": 145
        },
        "id": "Car_FxPDgocR",
        "outputId": "4f91e3c0-c816-434d-a5d4-3fc4c3aca7fc"
      },
      "execution_count": 36,
      "outputs": [
        {
          "output_type": "execute_result",
          "data": {
            "text/plain": [
              "\"1. What: Lewis Hamilton wins the Brazilian Grand Prix; the race saw two red flags and five safety cars deployed; Max Verstappen delivered a thrilling performance.\\n2. Who: Lewis Hamilton; Nico Rosberg; Max Verstappen; Felipe Massa; Charlie Whiting; Romain Grosjean; Kimi Raikkonen; Marcus Ericsson; Sergio Perez; Jenson Button; Toto Wolff; Jos Verstappen.\\n3. When: ; in his career; in Abu Dhabi; early in the season; on two occasions; with one to go; last week; on lap eight; on Lap 14; on Lap 20; on Lap 29; on Lap 44; on Lap 48; on Lap 69.\\n4. Where: in Sao Paulo; in the desert; at Interlagos;\\n5. Why: Hamilton's title looks destined to be crossing the Mercedes garage floor to Nico Rosberg; the damage was done early in the season with woeful reliability problems; Verstappen was called in for fresh rubber; the retiring Felipe Massa crashed out, forcing out the safety car; Whiting's decision made no difference to Hamilton; Verstappen answered the criticism perfectly with a thrilling performance.\\n6. How: Hamilton reigned supreme in the rain-hit incident packed race; Rosberg can win the title with a top-three finish in Abu Dhabi, irrespective of where Hamilton finishes; Verstappen made a string of sensational overtakes; the race was twice red flagged; Race Director Charlie Whiting's inexplicable call to stop the race; Verstappen was called in for intermediate tyres; Massa gave the home crowd an emotional farewell in his last ever Brazilian Grand Prix.\""
            ],
            "application/vnd.google.colaboratory.intrinsic+json": {
              "type": "string"
            }
          },
          "metadata": {},
          "execution_count": 36
        }
      ]
    },
    {
      "cell_type": "markdown",
      "source": [
        "### 3. Claude-3-5-sonnet request"
      ],
      "metadata": {
        "id": "U6MUy1nUhp7X"
      }
    },
    {
      "cell_type": "code",
      "execution_count": 37,
      "metadata": {
        "colab": {
          "base_uri": "https://localhost:8080/"
        },
        "id": "hYjtoZK0wbH3",
        "outputId": "12397bd2-3783-4bbc-eeeb-302f22baace0"
      },
      "outputs": [
        {
          "output_type": "stream",
          "name": "stdout",
          "text": [
            "Collecting anthropic\n",
            "  Downloading anthropic-0.42.0-py3-none-any.whl.metadata (23 kB)\n",
            "Requirement already satisfied: anyio<5,>=3.5.0 in /usr/local/lib/python3.10/dist-packages (from anthropic) (3.7.1)\n",
            "Requirement already satisfied: distro<2,>=1.7.0 in /usr/local/lib/python3.10/dist-packages (from anthropic) (1.9.0)\n",
            "Requirement already satisfied: httpx<1,>=0.23.0 in /usr/local/lib/python3.10/dist-packages (from anthropic) (0.27.2)\n",
            "Requirement already satisfied: jiter<1,>=0.4.0 in /usr/local/lib/python3.10/dist-packages (from anthropic) (0.8.2)\n",
            "Requirement already satisfied: pydantic<3,>=1.9.0 in /usr/local/lib/python3.10/dist-packages (from anthropic) (2.10.3)\n",
            "Requirement already satisfied: sniffio in /usr/local/lib/python3.10/dist-packages (from anthropic) (1.3.1)\n",
            "Requirement already satisfied: typing-extensions<5,>=4.10 in /usr/local/lib/python3.10/dist-packages (from anthropic) (4.12.2)\n",
            "Requirement already satisfied: idna>=2.8 in /usr/local/lib/python3.10/dist-packages (from anyio<5,>=3.5.0->anthropic) (3.10)\n",
            "Requirement already satisfied: exceptiongroup in /usr/local/lib/python3.10/dist-packages (from anyio<5,>=3.5.0->anthropic) (1.2.2)\n",
            "Requirement already satisfied: certifi in /usr/local/lib/python3.10/dist-packages (from httpx<1,>=0.23.0->anthropic) (2024.12.14)\n",
            "Requirement already satisfied: httpcore==1.* in /usr/local/lib/python3.10/dist-packages (from httpx<1,>=0.23.0->anthropic) (1.0.7)\n",
            "Requirement already satisfied: h11<0.15,>=0.13 in /usr/local/lib/python3.10/dist-packages (from httpcore==1.*->httpx<1,>=0.23.0->anthropic) (0.14.0)\n",
            "Requirement already satisfied: annotated-types>=0.6.0 in /usr/local/lib/python3.10/dist-packages (from pydantic<3,>=1.9.0->anthropic) (0.7.0)\n",
            "Requirement already satisfied: pydantic-core==2.27.1 in /usr/local/lib/python3.10/dist-packages (from pydantic<3,>=1.9.0->anthropic) (2.27.1)\n",
            "Downloading anthropic-0.42.0-py3-none-any.whl (203 kB)\n",
            "\u001b[2K   \u001b[90m━━━━━━━━━━━━━━━━━━━━━━━━━━━━━━━━━━━━━━━━\u001b[0m \u001b[32m203.4/203.4 kB\u001b[0m \u001b[31m7.1 MB/s\u001b[0m eta \u001b[36m0:00:00\u001b[0m\n",
            "\u001b[?25hInstalling collected packages: anthropic\n",
            "Successfully installed anthropic-0.42.0\n"
          ]
        }
      ],
      "source": [
        "!pip install anthropic"
      ]
    },
    {
      "cell_type": "code",
      "source": [
        "import anthropic\n",
        "\n",
        "# Create an instance of the Anthropics API client\n",
        "client = anthropic.Anthropic(api_key='_key')"
      ],
      "metadata": {
        "id": "6C1ICcw6gohk"
      },
      "execution_count": 38,
      "outputs": []
    },
    {
      "cell_type": "code",
      "execution_count": 42,
      "metadata": {
        "id": "ShAdIOQFJxz4"
      },
      "outputs": [],
      "source": [
        "system_description      = (\"You will be provided with a news article. Your task is to answer the 5W1H questions: What, Who, When, Where, Why, and How based on the provided content.\"\n",
        "                  \"Provide clear, concise, and focused answers for each question. Here are specific guidelines for each question:\\n\\n\"\n",
        "                  \"1. What: Describe the key facts, circumstances, and/or actions mentioned in the article. Exclude additional context or external opinions.\\n\"\n",
        "                  \"2. Who: Identify the main subject and/or entity involved in the news article. Do not include additional context or details about actions or locations.\\n\"\n",
        "                  \"3. When: Specify the relevant time and/or date when the events occurred. Do not include extra information about the impact or reactions.\\n\"\n",
        "                  \"4. Where: Indicate the location or place where the events occurred. Avoid adding context about individuals or specific actions taken in that location.\\n\"\n",
        "                  \"5. Why: Explain the reasons or causes behind the news event. Focus solely on the reasons mentioned in the article without adding opinions or external reactions.\\n\"\n",
        "                  \"6. How: Describe the manner or method by which the event occurred. Outline the manner in which the events unfolded as detailed in the article.\\n\\n\"\n",
        "\n",
        "                  \"If you cannot find a relevant answer for any question based on the content provided, please respond with an empty string ('').\\n\"\n",
        "                  \"Ensure your answers are directly based on the content provided and avoid including any unsupported information, personal opinions, or extraneous details.\\n\"\n",
        "                  \"Only use excerpts from the provided context. **This is a fundamental requirement.** Separate different sections with ';'.\"\n",
        ")"
      ]
    },
    {
      "cell_type": "code",
      "source": [
        "response = client.messages.create(\n",
        "      model=\"claude-3-5-sonnet-20240620\",\n",
        "      temperature = 0.2,\n",
        "      max_tokens  = 200,\n",
        "      top_p       = 0.1,\n",
        "      system      = system_description,\n",
        "      messages    = [\n",
        "\n",
        "      {\n",
        "        \"role\": \"user\",\n",
        "        \"content\": (\n",
        "          \"Here is the news article:\\n\"\n",
        "          f\"Title: {title}\\n\"\n",
        "          f\"Description: {description}\\n\"\n",
        "          f\"News Body: {news_body}\\n\"\n",
        "          \"Please answer the following questions based on the context provided.\\n\"\n",
        "          \"1. What:\\n\"\n",
        "          \"2. Who:\\n\"\n",
        "          \"3. When:\\n\"\n",
        "          \"4. Where:\\n\"\n",
        "          \"5. Why:\\n\"\n",
        "          \"6. How:\\n\\n\"\n",
        "\n",
        "\n",
        "        )\n",
        "      }\n",
        "    ]\n",
        "  )"
      ],
      "metadata": {
        "id": "-CsyOEREgomz"
      },
      "execution_count": 43,
      "outputs": []
    },
    {
      "cell_type": "code",
      "source": [
        "response_text = response.content[0].text\n",
        "response_text"
      ],
      "metadata": {
        "colab": {
          "base_uri": "https://localhost:8080/",
          "height": 109
        },
        "id": "t1MIFVpQiYJX",
        "outputId": "3681fe57-dc0c-4196-dbeb-16188db63a72"
      },
      "execution_count": 44,
      "outputs": [
        {
          "output_type": "execute_result",
          "data": {
            "text/plain": [
              "\"1. What: Lewis Hamilton wins the Brazilian Grand Prix; The race was marked by two red flags and five safety car deployments due to heavy rain and incidents\\n\\n2. Who: Lewis Hamilton; Nico Rosberg; Max Verstappen\\n\\n3. When: ''\\n\\n4. Where: Interlagos, Sao Paulo, Brazil\\n\\n5. Why: Hamilton keeps his hopes of a third successive title alive; Rosberg remains favorite for the championship with a 12-point lead\\n\\n6. How: Hamilton drove at his brilliant best in a rain-hit, incident-packed race; The race saw multiple safety car deployments and red flags due to crashes and weather conditions; Verstappen made impressive overtakes and recovered from a strategy blunder to finish third\""
            ],
            "application/vnd.google.colaboratory.intrinsic+json": {
              "type": "string"
            }
          },
          "metadata": {},
          "execution_count": 44
        }
      ]
    },
    {
      "cell_type": "code",
      "source": [],
      "metadata": {
        "id": "BVPS44wHm97i"
      },
      "execution_count": null,
      "outputs": []
    }
  ]
}
